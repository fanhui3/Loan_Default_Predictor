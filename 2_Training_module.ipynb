{
 "cells": [
  {
   "cell_type": "code",
   "execution_count": 4,
   "id": "f98a3a8e",
   "metadata": {},
   "outputs": [],
   "source": [
    "import pandas as pd\n",
    "import seaborn as sns\n",
    "import numpy as np\n",
    "import matplotlib.pyplot as plt\n",
    "\n",
    "#machine learning packages\n",
    "from sklearn.model_selection import train_test_split\n",
    "from sklearn.preprocessing import StandardScaler\n",
    "from sklearn.metrics import confusion_matrix, accuracy_score\n",
    "from sklearn.metrics import roc_auc_score\n",
    "\n",
    "#models\n",
    "from sklearn.linear_model import LogisticRegression\n",
    "from sklearn.svm import SVC\n",
    "from sklearn.naive_bayes import GaussianNB\n",
    "from sklearn.tree import DecisionTreeClassifier\n",
    "from sklearn.ensemble import RandomForestClassifier\n",
    "\n",
    "#export object\n",
    "import joblib"
   ]
  },
  {
   "cell_type": "code",
   "execution_count": null,
   "id": "3b0f406e",
   "metadata": {},
   "outputs": [],
   "source": []
  },
  {
   "cell_type": "markdown",
   "id": "7e0dec84",
   "metadata": {},
   "source": [
    "# import cleaned dataset"
   ]
  },
  {
   "cell_type": "code",
   "execution_count": 5,
   "id": "5f7080f3",
   "metadata": {},
   "outputs": [],
   "source": [
    "df = pd.read_csv(\"cleaned_borrower_profile.csv\")"
   ]
  },
  {
   "cell_type": "code",
   "execution_count": 6,
   "id": "927d5f68",
   "metadata": {},
   "outputs": [
    {
     "data": {
      "text/plain": [
       "gender               object\n",
       "maritalstatus        object\n",
       "numofdependence       int64\n",
       "education             int64\n",
       "jobpos               object\n",
       "age                   int64\n",
       "household_income    float64\n",
       "work_experience     float64\n",
       "years_home_owned      int64\n",
       "status                int64\n",
       "dtype: object"
      ]
     },
     "execution_count": 6,
     "metadata": {},
     "output_type": "execute_result"
    }
   ],
   "source": [
    "df.dtypes"
   ]
  },
  {
   "cell_type": "code",
   "execution_count": 7,
   "id": "4ac06b96",
   "metadata": {},
   "outputs": [
    {
     "data": {
      "text/plain": [
       "0    0.844345\n",
       "1    0.155655\n",
       "Name: status, dtype: float64"
      ]
     },
     "execution_count": 7,
     "metadata": {},
     "output_type": "execute_result"
    }
   ],
   "source": [
    "df[\"status\"].value_counts(normalize=True)"
   ]
  },
  {
   "cell_type": "markdown",
   "id": "1ba2d2bf",
   "metadata": {},
   "source": [
    "# balancing the data. Make the 2 class 50:50"
   ]
  },
  {
   "cell_type": "code",
   "execution_count": 8,
   "id": "8d31656a",
   "metadata": {},
   "outputs": [],
   "source": [
    "default_class = {}\n",
    "\n",
    "for y in set(list(df[\"status\"])):\n",
    "    default_class[y] = df[df[\"status\"] == y]"
   ]
  },
  {
   "cell_type": "code",
   "execution_count": 9,
   "id": "8bfb00ed",
   "metadata": {},
   "outputs": [],
   "source": [
    "expanded_defaulter = default_class[1].sample(n=len(default_class[0]),replace=True)"
   ]
  },
  {
   "cell_type": "code",
   "execution_count": 10,
   "id": "f4532744",
   "metadata": {},
   "outputs": [
    {
     "data": {
      "text/plain": [
       "0    0.5\n",
       "1    0.5\n",
       "Name: status, dtype: float64"
      ]
     },
     "execution_count": 10,
     "metadata": {},
     "output_type": "execute_result"
    }
   ],
   "source": [
    "df = pd.concat([default_class[0], expanded_defaulter],axis=\"index\")\n",
    "df[\"status\"].value_counts(normalize=True)"
   ]
  },
  {
   "cell_type": "markdown",
   "id": "f4307d31",
   "metadata": {},
   "source": [
    "# one-hot encoding dependent variable"
   ]
  },
  {
   "cell_type": "code",
   "execution_count": 11,
   "id": "cfce8e0e",
   "metadata": {},
   "outputs": [
    {
     "data": {
      "text/plain": [
       "Index(['gender', 'maritalstatus', 'numofdependence', 'education', 'jobpos',\n",
       "       'age', 'household_income', 'work_experience', 'years_home_owned',\n",
       "       'status'],\n",
       "      dtype='object')"
      ]
     },
     "execution_count": 11,
     "metadata": {},
     "output_type": "execute_result"
    }
   ],
   "source": [
    "df.columns"
   ]
  },
  {
   "cell_type": "code",
   "execution_count": 12,
   "id": "a9e6b9d2",
   "metadata": {},
   "outputs": [],
   "source": [
    "cat_varibles = ['gender', 'maritalstatus', \"jobpos\"]"
   ]
  },
  {
   "cell_type": "code",
   "execution_count": 13,
   "id": "909fc6b2",
   "metadata": {},
   "outputs": [],
   "source": [
    "for col in cat_varibles:\n",
    "    dummy = pd.get_dummies(df[col])\n",
    "    df.drop(col,axis=\"columns\", inplace=True)\n",
    "    df = pd.concat([df,dummy], axis=\"columns\")"
   ]
  },
  {
   "cell_type": "markdown",
   "id": "616ce081",
   "metadata": {},
   "source": [
    "# train test split"
   ]
  },
  {
   "cell_type": "code",
   "execution_count": 14,
   "id": "575ca7fa",
   "metadata": {},
   "outputs": [],
   "source": [
    "X_train, X_test, y_train, y_test = train_test_split(df.drop(\"status\", axis=\"columns\"), df[\"status\"], \n",
    "                                                    test_size = 0.2, random_state = 42)"
   ]
  },
  {
   "cell_type": "markdown",
   "id": "12300cd0",
   "metadata": {},
   "source": [
    "# feature scaling"
   ]
  },
  {
   "cell_type": "code",
   "execution_count": 15,
   "id": "3e8ff77a",
   "metadata": {},
   "outputs": [],
   "source": [
    "sc = StandardScaler()\n",
    "numeric_columns = X_train.columns[0:6]\n"
   ]
  },
  {
   "cell_type": "code",
   "execution_count": 16,
   "id": "84f6b63c",
   "metadata": {},
   "outputs": [],
   "source": [
    "X_train[numeric_columns] = sc.fit_transform(X_train[numeric_columns])\n",
    "X_test[numeric_columns] = sc.transform(X_test[numeric_columns])"
   ]
  },
  {
   "cell_type": "code",
   "execution_count": 17,
   "id": "0a440edc",
   "metadata": {},
   "outputs": [
    {
     "data": {
      "text/plain": [
       "['feature_scaler.pkl']"
      ]
     },
     "execution_count": 17,
     "metadata": {},
     "output_type": "execute_result"
    }
   ],
   "source": [
    "joblib.dump(sc, \"feature_scaler.pkl\")"
   ]
  },
  {
   "cell_type": "code",
   "execution_count": 18,
   "id": "df75d389",
   "metadata": {},
   "outputs": [],
   "source": [
    "compiled_y_test = pd.DataFrame(y_test.copy())"
   ]
  },
  {
   "cell_type": "markdown",
   "id": "58996467",
   "metadata": {},
   "source": [
    "# Models Training"
   ]
  },
  {
   "cell_type": "markdown",
   "id": "c8c7bd9f",
   "metadata": {},
   "source": [
    "## Logistic regression (56.8% AUC)"
   ]
  },
  {
   "cell_type": "code",
   "execution_count": 19,
   "id": "fe273e8d",
   "metadata": {},
   "outputs": [
    {
     "data": {
      "text/plain": [
       "LogisticRegression(random_state=42)"
      ]
     },
     "execution_count": 19,
     "metadata": {},
     "output_type": "execute_result"
    }
   ],
   "source": [
    "logistic = LogisticRegression(random_state=42)\n",
    "logistic.fit(X_train, y_train)"
   ]
  },
  {
   "cell_type": "code",
   "execution_count": 20,
   "id": "8cb548e5",
   "metadata": {},
   "outputs": [],
   "source": [
    "y_pred = pd.Series(logistic.predict(X_test), name=\"logisctic Prediction\")\n",
    "compiled_y_test = pd.concat([compiled_y_test.reset_index(drop=True), y_pred], axis = \"columns\")"
   ]
  },
  {
   "cell_type": "code",
   "execution_count": 21,
   "id": "a75839f0",
   "metadata": {},
   "outputs": [
    {
     "name": "stdout",
     "output_type": "stream",
     "text": [
      "[[17204 16500]\n",
      " [12995 20645]]\n"
     ]
    },
    {
     "data": {
      "text/plain": [
       "0.5620248277500594"
      ]
     },
     "execution_count": 21,
     "metadata": {},
     "output_type": "execute_result"
    }
   ],
   "source": [
    "cm = confusion_matrix(y_test, y_pred)\n",
    "print(cm)\n",
    "accuracy_score(y_test, y_pred)"
   ]
  },
  {
   "cell_type": "code",
   "execution_count": 22,
   "id": "0278657b",
   "metadata": {},
   "outputs": [
    {
     "data": {
      "text/plain": [
       "0.5620738940649419"
      ]
     },
     "execution_count": 22,
     "metadata": {},
     "output_type": "execute_result"
    }
   ],
   "source": [
    "roc_auc_score(y_test, y_pred)"
   ]
  },
  {
   "cell_type": "code",
   "execution_count": 23,
   "id": "ee757c1e",
   "metadata": {},
   "outputs": [
    {
     "data": {
      "text/html": [
       "<div>\n",
       "<style scoped>\n",
       "    .dataframe tbody tr th:only-of-type {\n",
       "        vertical-align: middle;\n",
       "    }\n",
       "\n",
       "    .dataframe tbody tr th {\n",
       "        vertical-align: top;\n",
       "    }\n",
       "\n",
       "    .dataframe thead th {\n",
       "        text-align: right;\n",
       "    }\n",
       "</style>\n",
       "<table border=\"1\" class=\"dataframe\">\n",
       "  <thead>\n",
       "    <tr style=\"text-align: right;\">\n",
       "      <th></th>\n",
       "      <th>Variables</th>\n",
       "      <th>Coefficient</th>\n",
       "    </tr>\n",
       "  </thead>\n",
       "  <tbody>\n",
       "    <tr>\n",
       "      <th>0</th>\n",
       "      <td>intercept</td>\n",
       "      <td>-0.111358</td>\n",
       "    </tr>\n",
       "    <tr>\n",
       "      <th>0</th>\n",
       "      <td>numofdependence</td>\n",
       "      <td>-0.031053</td>\n",
       "    </tr>\n",
       "    <tr>\n",
       "      <th>1</th>\n",
       "      <td>education</td>\n",
       "      <td>-0.147965</td>\n",
       "    </tr>\n",
       "    <tr>\n",
       "      <th>2</th>\n",
       "      <td>age</td>\n",
       "      <td>-0.091843</td>\n",
       "    </tr>\n",
       "    <tr>\n",
       "      <th>3</th>\n",
       "      <td>household_income</td>\n",
       "      <td>-0.092427</td>\n",
       "    </tr>\n",
       "    <tr>\n",
       "      <th>4</th>\n",
       "      <td>work_experience</td>\n",
       "      <td>0.021964</td>\n",
       "    </tr>\n",
       "    <tr>\n",
       "      <th>5</th>\n",
       "      <td>years_home_owned</td>\n",
       "      <td>0.035025</td>\n",
       "    </tr>\n",
       "    <tr>\n",
       "      <th>6</th>\n",
       "      <td>Female</td>\n",
       "      <td>-0.096832</td>\n",
       "    </tr>\n",
       "    <tr>\n",
       "      <th>7</th>\n",
       "      <td>Male</td>\n",
       "      <td>-0.017883</td>\n",
       "    </tr>\n",
       "    <tr>\n",
       "      <th>8</th>\n",
       "      <td>DIVORCE</td>\n",
       "      <td>0.208120</td>\n",
       "    </tr>\n",
       "    <tr>\n",
       "      <th>9</th>\n",
       "      <td>MARRIED</td>\n",
       "      <td>-0.297662</td>\n",
       "    </tr>\n",
       "    <tr>\n",
       "      <th>10</th>\n",
       "      <td>SINGLE</td>\n",
       "      <td>-0.197156</td>\n",
       "    </tr>\n",
       "    <tr>\n",
       "      <th>11</th>\n",
       "      <td>WIDOWED</td>\n",
       "      <td>0.171983</td>\n",
       "    </tr>\n",
       "    <tr>\n",
       "      <th>12</th>\n",
       "      <td>Director</td>\n",
       "      <td>0.591648</td>\n",
       "    </tr>\n",
       "    <tr>\n",
       "      <th>13</th>\n",
       "      <td>Manager</td>\n",
       "      <td>0.319326</td>\n",
       "    </tr>\n",
       "    <tr>\n",
       "      <th>14</th>\n",
       "      <td>Staff</td>\n",
       "      <td>0.240382</td>\n",
       "    </tr>\n",
       "    <tr>\n",
       "      <th>15</th>\n",
       "      <td>Supervisor</td>\n",
       "      <td>-1.857151</td>\n",
       "    </tr>\n",
       "    <tr>\n",
       "      <th>16</th>\n",
       "      <td>self-employed</td>\n",
       "      <td>0.591080</td>\n",
       "    </tr>\n",
       "  </tbody>\n",
       "</table>\n",
       "</div>"
      ],
      "text/plain": [
       "           Variables  Coefficient\n",
       "0          intercept    -0.111358\n",
       "0    numofdependence    -0.031053\n",
       "1          education    -0.147965\n",
       "2                age    -0.091843\n",
       "3   household_income    -0.092427\n",
       "4    work_experience     0.021964\n",
       "5   years_home_owned     0.035025\n",
       "6             Female    -0.096832\n",
       "7               Male    -0.017883\n",
       "8            DIVORCE     0.208120\n",
       "9            MARRIED    -0.297662\n",
       "10            SINGLE    -0.197156\n",
       "11           WIDOWED     0.171983\n",
       "12          Director     0.591648\n",
       "13           Manager     0.319326\n",
       "14             Staff     0.240382\n",
       "15        Supervisor    -1.857151\n",
       "16     self-employed     0.591080"
      ]
     },
     "execution_count": 23,
     "metadata": {},
     "output_type": "execute_result"
    }
   ],
   "source": [
    "#building the coefficient table to understand the impact of each variable and also to ensure no single variable is driving \n",
    "#the predictive result\n",
    "intercept_table = pd.DataFrame(pd.Series(logistic.intercept_, name=\"Coefs\"))\n",
    "intercept_table[0] = \"intercept\"\n",
    "intercept_table\n",
    "\n",
    "coef_table = pd.DataFrame(list(X_train.columns)).copy()\n",
    "coef_table.insert(len(coef_table.columns), \"Coefs\", logistic.coef_.transpose())\n",
    "\n",
    "coef_table = pd.concat([intercept_table,coef_table], axis = 0)\n",
    "coef_table = coef_table[[0,\"Coefs\"]]\n",
    "coef_table.columns = [\"Variables\", \"Coefficient\"]\n",
    "\n",
    "coef_table"
   ]
  },
  {
   "cell_type": "markdown",
   "id": "1aad7008",
   "metadata": {},
   "source": [
    "## Kernal Support Vector"
   ]
  },
  {
   "cell_type": "code",
   "execution_count": 24,
   "id": "512aa401",
   "metadata": {},
   "outputs": [],
   "source": [
    "# #too slow\n",
    "# kernal = SVC(kernel = 'rbf', random_state = 42)\n",
    "# kernal.fit(X_train, y_train)"
   ]
  },
  {
   "cell_type": "code",
   "execution_count": 25,
   "id": "bfe0ff89",
   "metadata": {},
   "outputs": [],
   "source": [
    "# y_pred = pd.Series(Tree.predict(X_test), name=\"SVC Prediction\")"
   ]
  },
  {
   "cell_type": "code",
   "execution_count": 26,
   "id": "2e642186",
   "metadata": {},
   "outputs": [],
   "source": [
    "# cm = confusion_matrix(y_test, y_pred)\n",
    "# print(cm)\n",
    "# accuracy_score(y_test, y_pred)"
   ]
  },
  {
   "cell_type": "markdown",
   "id": "fc8c02eb",
   "metadata": {},
   "source": [
    "## Naive bayes model (51.8% AUC)"
   ]
  },
  {
   "cell_type": "code",
   "execution_count": 27,
   "id": "f46470d2",
   "metadata": {},
   "outputs": [
    {
     "data": {
      "text/plain": [
       "GaussianNB()"
      ]
     },
     "execution_count": 27,
     "metadata": {},
     "output_type": "execute_result"
    }
   ],
   "source": [
    "NB = GaussianNB()\n",
    "NB.fit(X_train, y_train)"
   ]
  },
  {
   "cell_type": "code",
   "execution_count": 28,
   "id": "fb1b0765",
   "metadata": {},
   "outputs": [],
   "source": [
    "y_pred = pd.Series(NB.predict(X_test), name=\"NB Prediction\")\n",
    "# compiled_y_test = pd.concat([compiled_y_test.reset_index(drop=True), y_pred], axis = \"columns\")"
   ]
  },
  {
   "cell_type": "code",
   "execution_count": 29,
   "id": "f602fd5d",
   "metadata": {},
   "outputs": [
    {
     "name": "stdout",
     "output_type": "stream",
     "text": [
      "[[ 5692 28012]\n",
      " [ 3561 30079]]\n"
     ]
    },
    {
     "data": {
      "text/plain": [
       "0.5311683297695414"
      ]
     },
     "execution_count": 29,
     "metadata": {},
     "output_type": "execute_result"
    }
   ],
   "source": [
    "cm = confusion_matrix(y_test, y_pred)\n",
    "print(cm)\n",
    "accuracy_score(y_test, y_pred)"
   ]
  },
  {
   "cell_type": "code",
   "execution_count": 30,
   "id": "2fd5b3a4",
   "metadata": {},
   "outputs": [
    {
     "data": {
      "text/plain": [
       "0.5315129540720035"
      ]
     },
     "execution_count": 30,
     "metadata": {},
     "output_type": "execute_result"
    }
   ],
   "source": [
    "roc_auc_score(y_test, y_pred)"
   ]
  },
  {
   "cell_type": "markdown",
   "id": "5d7a50a9",
   "metadata": {},
   "source": [
    "## Decision Tree (90% AUC)"
   ]
  },
  {
   "cell_type": "code",
   "execution_count": 31,
   "id": "5217e38c",
   "metadata": {},
   "outputs": [
    {
     "data": {
      "text/plain": [
       "DecisionTreeClassifier(criterion='entropy', random_state=42)"
      ]
     },
     "execution_count": 31,
     "metadata": {},
     "output_type": "execute_result"
    }
   ],
   "source": [
    "Tree = DecisionTreeClassifier(criterion = 'entropy', random_state = 42)\n",
    "Tree.fit(X_train, y_train)"
   ]
  },
  {
   "cell_type": "code",
   "execution_count": 32,
   "id": "e58919f1",
   "metadata": {},
   "outputs": [],
   "source": [
    "y_pred = pd.Series(Tree.predict(X_test), name=\"Tree Prediction\")\n",
    "compiled_y_test = pd.concat([compiled_y_test.reset_index(drop=True), y_pred], axis = \"columns\")"
   ]
  },
  {
   "cell_type": "code",
   "execution_count": 33,
   "id": "3e34e015",
   "metadata": {},
   "outputs": [
    {
     "name": "stdout",
     "output_type": "stream",
     "text": [
      "[[27408  6296]\n",
      " [  529 33111]]\n"
     ]
    },
    {
     "data": {
      "text/plain": [
       "0.8986546685673557"
      ]
     },
     "execution_count": 33,
     "metadata": {},
     "output_type": "execute_result"
    }
   ],
   "source": [
    "cm = confusion_matrix(y_test, y_pred)\n",
    "print(cm)\n",
    "accuracy_score(y_test, y_pred)"
   ]
  },
  {
   "cell_type": "code",
   "execution_count": 34,
   "id": "32b67ca5",
   "metadata": {},
   "outputs": [
    {
     "data": {
      "text/plain": [
       "0.8987359598129678"
      ]
     },
     "execution_count": 34,
     "metadata": {},
     "output_type": "execute_result"
    }
   ],
   "source": [
    "roc_auc_score(y_test, y_pred)"
   ]
  },
  {
   "cell_type": "markdown",
   "id": "39ccbd9a",
   "metadata": {},
   "source": [
    "# Random Forest (94% AUC)"
   ]
  },
  {
   "cell_type": "code",
   "execution_count": 35,
   "id": "4d062a7c",
   "metadata": {},
   "outputs": [
    {
     "data": {
      "text/plain": [
       "RandomForestClassifier(criterion='entropy', n_estimators=201, random_state=0)"
      ]
     },
     "execution_count": 35,
     "metadata": {},
     "output_type": "execute_result"
    }
   ],
   "source": [
    "forest = RandomForestClassifier(n_estimators = 201, criterion = 'entropy', random_state = 0)\n",
    "forest.fit(X_train, y_train)"
   ]
  },
  {
   "cell_type": "code",
   "execution_count": 36,
   "id": "c316ca8d",
   "metadata": {},
   "outputs": [],
   "source": [
    "y_pred = pd.Series(forest.predict(X_test), name=\"Forest Prediction\")\n",
    "compiled_y_test = pd.concat([compiled_y_test.reset_index(drop=True), y_pred], axis = \"columns\")"
   ]
  },
  {
   "cell_type": "code",
   "execution_count": 37,
   "id": "439ab7d5",
   "metadata": {},
   "outputs": [
    {
     "name": "stdout",
     "output_type": "stream",
     "text": [
      "[[30494  3210]\n",
      " [  547 33093]]\n"
     ]
    },
    {
     "data": {
      "text/plain": [
       "0.944211808030411"
      ]
     },
     "execution_count": 37,
     "metadata": {},
     "output_type": "execute_result"
    }
   ],
   "source": [
    "cm = confusion_matrix(y_test, y_pred)\n",
    "print(cm)\n",
    "accuracy_score(y_test, y_pred)"
   ]
  },
  {
   "cell_type": "code",
   "execution_count": 38,
   "id": "fb38c830",
   "metadata": {},
   "outputs": [
    {
     "data": {
      "text/plain": [
       "0.9442493373802225"
      ]
     },
     "execution_count": 38,
     "metadata": {},
     "output_type": "execute_result"
    }
   ],
   "source": [
    "roc_auc_score(y_test, y_pred)"
   ]
  },
  {
   "cell_type": "code",
   "execution_count": 39,
   "id": "f443f471",
   "metadata": {},
   "outputs": [
    {
     "data": {
      "text/plain": [
       "['random_forest_predictor.pkl']"
      ]
     },
     "execution_count": 39,
     "metadata": {},
     "output_type": "execute_result"
    }
   ],
   "source": [
    "#export this model as it is chosen\n",
    "joblib.dump(forest, \"random_forest_predictor.pkl\")"
   ]
  },
  {
   "cell_type": "markdown",
   "id": "325470dc",
   "metadata": {},
   "source": [
    "# Ensemble method of all trained models \n",
    "Conclusion\n",
    "* performed 2% better than the best trained model: randomforest.\n",
    "* However, there are a lot more false postive\n",
    "* Coder's call to use random_forest as the result reduces the chance of rejecting profitable clients\n",
    "* proceed to hypertune random forest"
   ]
  },
  {
   "cell_type": "code",
   "execution_count": 40,
   "id": "c2f23ba8",
   "metadata": {},
   "outputs": [
    {
     "data": {
      "text/html": [
       "<div>\n",
       "<style scoped>\n",
       "    .dataframe tbody tr th:only-of-type {\n",
       "        vertical-align: middle;\n",
       "    }\n",
       "\n",
       "    .dataframe tbody tr th {\n",
       "        vertical-align: top;\n",
       "    }\n",
       "\n",
       "    .dataframe thead th {\n",
       "        text-align: right;\n",
       "    }\n",
       "</style>\n",
       "<table border=\"1\" class=\"dataframe\">\n",
       "  <thead>\n",
       "    <tr style=\"text-align: right;\">\n",
       "      <th></th>\n",
       "      <th>status</th>\n",
       "      <th>logisctic Prediction</th>\n",
       "      <th>Tree Prediction</th>\n",
       "      <th>Forest Prediction</th>\n",
       "      <th>ensembled prediction</th>\n",
       "    </tr>\n",
       "  </thead>\n",
       "  <tbody>\n",
       "    <tr>\n",
       "      <th>0</th>\n",
       "      <td>0</td>\n",
       "      <td>1</td>\n",
       "      <td>0</td>\n",
       "      <td>0</td>\n",
       "      <td>0</td>\n",
       "    </tr>\n",
       "    <tr>\n",
       "      <th>1</th>\n",
       "      <td>0</td>\n",
       "      <td>0</td>\n",
       "      <td>0</td>\n",
       "      <td>0</td>\n",
       "      <td>0</td>\n",
       "    </tr>\n",
       "    <tr>\n",
       "      <th>2</th>\n",
       "      <td>0</td>\n",
       "      <td>0</td>\n",
       "      <td>0</td>\n",
       "      <td>0</td>\n",
       "      <td>0</td>\n",
       "    </tr>\n",
       "    <tr>\n",
       "      <th>3</th>\n",
       "      <td>1</td>\n",
       "      <td>1</td>\n",
       "      <td>1</td>\n",
       "      <td>1</td>\n",
       "      <td>1</td>\n",
       "    </tr>\n",
       "    <tr>\n",
       "      <th>4</th>\n",
       "      <td>0</td>\n",
       "      <td>1</td>\n",
       "      <td>0</td>\n",
       "      <td>1</td>\n",
       "      <td>1</td>\n",
       "    </tr>\n",
       "    <tr>\n",
       "      <th>...</th>\n",
       "      <td>...</td>\n",
       "      <td>...</td>\n",
       "      <td>...</td>\n",
       "      <td>...</td>\n",
       "      <td>...</td>\n",
       "    </tr>\n",
       "    <tr>\n",
       "      <th>67339</th>\n",
       "      <td>0</td>\n",
       "      <td>1</td>\n",
       "      <td>0</td>\n",
       "      <td>0</td>\n",
       "      <td>0</td>\n",
       "    </tr>\n",
       "    <tr>\n",
       "      <th>67340</th>\n",
       "      <td>0</td>\n",
       "      <td>0</td>\n",
       "      <td>0</td>\n",
       "      <td>0</td>\n",
       "      <td>0</td>\n",
       "    </tr>\n",
       "    <tr>\n",
       "      <th>67341</th>\n",
       "      <td>0</td>\n",
       "      <td>1</td>\n",
       "      <td>1</td>\n",
       "      <td>0</td>\n",
       "      <td>1</td>\n",
       "    </tr>\n",
       "    <tr>\n",
       "      <th>67342</th>\n",
       "      <td>1</td>\n",
       "      <td>1</td>\n",
       "      <td>1</td>\n",
       "      <td>1</td>\n",
       "      <td>1</td>\n",
       "    </tr>\n",
       "    <tr>\n",
       "      <th>67343</th>\n",
       "      <td>0</td>\n",
       "      <td>1</td>\n",
       "      <td>0</td>\n",
       "      <td>0</td>\n",
       "      <td>0</td>\n",
       "    </tr>\n",
       "  </tbody>\n",
       "</table>\n",
       "<p>67344 rows × 5 columns</p>\n",
       "</div>"
      ],
      "text/plain": [
       "       status  logisctic Prediction  Tree Prediction  Forest Prediction  \\\n",
       "0           0                     1                0                  0   \n",
       "1           0                     0                0                  0   \n",
       "2           0                     0                0                  0   \n",
       "3           1                     1                1                  1   \n",
       "4           0                     1                0                  1   \n",
       "...       ...                   ...              ...                ...   \n",
       "67339       0                     1                0                  0   \n",
       "67340       0                     0                0                  0   \n",
       "67341       0                     1                1                  0   \n",
       "67342       1                     1                1                  1   \n",
       "67343       0                     1                0                  0   \n",
       "\n",
       "       ensembled prediction  \n",
       "0                         0  \n",
       "1                         0  \n",
       "2                         0  \n",
       "3                         1  \n",
       "4                         1  \n",
       "...                     ...  \n",
       "67339                     0  \n",
       "67340                     0  \n",
       "67341                     1  \n",
       "67342                     1  \n",
       "67343                     0  \n",
       "\n",
       "[67344 rows x 5 columns]"
      ]
     },
     "execution_count": 40,
     "metadata": {},
     "output_type": "execute_result"
    }
   ],
   "source": [
    "#combine all model and let them vote\n",
    "ensembled_pred = compiled_y_test.drop('status',axis=\"columns\")\n",
    "compiled_y_test[\"ensembled prediction\"] = ensembled_pred.mode(axis=1)\n",
    "compiled_y_test"
   ]
  },
  {
   "cell_type": "code",
   "execution_count": 42,
   "id": "68421bb4",
   "metadata": {},
   "outputs": [
    {
     "name": "stdout",
     "output_type": "stream",
     "text": [
      "[[28539  5165]\n",
      " [  525 33115]]\n"
     ]
    },
    {
     "data": {
      "text/plain": [
       "0.9611992159657876"
      ]
     },
     "execution_count": 42,
     "metadata": {},
     "output_type": "execute_result"
    }
   ],
   "source": [
    "#accuracy is as good as random forest\n",
    "cm = confusion_matrix(compiled_y_test[\"status\"], compiled_y_test[\"ensembled prediction\"] )\n",
    "print(cm)\n",
    "accuracy_score(compiled_y_test[\"ensembled prediction\"] , y_pred)"
   ]
  },
  {
   "cell_type": "markdown",
   "id": "de79c762",
   "metadata": {},
   "source": [
    "# hypertuning random forest (201 trees is good enough) "
   ]
  },
  {
   "cell_type": "code",
   "execution_count": 133,
   "id": "c529cc13",
   "metadata": {},
   "outputs": [
    {
     "name": "stdout",
     "output_type": "stream",
     "text": [
      "201\n",
      "[[30537  3167]\n",
      " [  573 33067]]\n",
      "0.944464243288192\n",
      "401\n",
      "[[30568  3136]\n",
      " [  571 33069]]\n",
      "0.9449542646709432\n",
      "701\n",
      "[[30570  3134]\n",
      " [  574 33066]]\n",
      "0.9449394155381325\n"
     ]
    }
   ],
   "source": [
    "trees = [201,401,701]\n",
    "\n",
    "for ntree in trees:\n",
    "    print(ntree)\n",
    "    forest = RandomForestClassifier(n_estimators = ntree, criterion = 'entropy', random_state = 0)\n",
    "    forest.fit(X_train, y_train)\n",
    "\n",
    "    y_pred = pd.Series(forest.predict(X_test), name=\"Forest Prediction\")\n",
    "    compiled_y_test = pd.concat([compiled_y_test.reset_index(drop=True), y_pred], axis = \"columns\")\n",
    "\n",
    "    cm = confusion_matrix(y_test, y_pred)\n",
    "    print(cm)\n",
    "    print(accuracy_score(y_test, y_pred))"
   ]
  },
  {
   "cell_type": "code",
   "execution_count": 159,
   "id": "cac362eb",
   "metadata": {},
   "outputs": [],
   "source": [
    "X_test.to_csv(\"sample_format.csv\", index=False)"
   ]
  },
  {
   "cell_type": "code",
   "execution_count": null,
   "id": "438e28d4",
   "metadata": {},
   "outputs": [],
   "source": []
  },
  {
   "cell_type": "markdown",
   "id": "8b414e53",
   "metadata": {},
   "source": [
    "# check if this part appears new"
   ]
  },
  {
   "cell_type": "code",
   "execution_count": null,
   "id": "fd9fde73",
   "metadata": {},
   "outputs": [],
   "source": []
  }
 ],
 "metadata": {
  "kernelspec": {
   "display_name": "Python 3",
   "language": "python",
   "name": "python3"
  },
  "language_info": {
   "codemirror_mode": {
    "name": "ipython",
    "version": 3
   },
   "file_extension": ".py",
   "mimetype": "text/x-python",
   "name": "python",
   "nbconvert_exporter": "python",
   "pygments_lexer": "ipython3",
   "version": "3.8.8"
  }
 },
 "nbformat": 4,
 "nbformat_minor": 5
}
