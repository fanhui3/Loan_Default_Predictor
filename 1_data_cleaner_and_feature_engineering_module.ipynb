{
 "cells": [
  {
   "cell_type": "code",
   "execution_count": 3,
   "id": "2ced0ede",
   "metadata": {},
   "outputs": [],
   "source": [
    "#Data manipulation and visualisation\n",
    "import pandas as pd\n",
    "import seaborn as sns\n",
    "import numpy as np\n",
    "import matplotlib.pyplot as plt"
   ]
  },
  {
   "cell_type": "markdown",
   "id": "cf6d4dea",
   "metadata": {},
   "source": [
    "# Import file"
   ]
  },
  {
   "cell_type": "code",
   "execution_count": 4,
   "id": "f8434444",
   "metadata": {},
   "outputs": [],
   "source": [
    "main = pd.read_csv(\"sample_200k.csv\")"
   ]
  },
  {
   "cell_type": "code",
   "execution_count": 5,
   "id": "1e1cbc8e",
   "metadata": {},
   "outputs": [
    {
     "data": {
      "text/plain": [
       "(200000, 63)"
      ]
     },
     "execution_count": 5,
     "metadata": {},
     "output_type": "execute_result"
    }
   ],
   "source": [
    "main.shape"
   ]
  },
  {
   "cell_type": "code",
   "execution_count": 6,
   "id": "8effbc9d",
   "metadata": {},
   "outputs": [
    {
     "data": {
      "text/plain": [
       "Index(['borr_id', 'gender', 'birthyear', 'maritalstatus', 'numofdependence',\n",
       "       'education', 'professionid', 'homestatus', 'staysinceyear',\n",
       "       'EmploymentSinceYear', 'MainBusinessSinceYear', 'jobtypeid', 'jobpos',\n",
       "       'monthlyfixedincome', 'monthlyvariableincome', 'spouseincome',\n",
       "       'newapplicationdate', 'MaxOverDueDays', 'residencezipcode',\n",
       "       'companyzipcode', 'legalzipcode', 'residence_lat', 'residence_long',\n",
       "       'company_lat', 'company_long', 'legal_lat', 'legal_long', 'birthplace',\n",
       "       'avg_income', 'std_income', 'avg_income_cnt', 'avg_income_nation',\n",
       "       'std_income_nation', 'avg_income_nation_cnt', 'avg_income_area',\n",
       "       'std_icnome_area', 'avg_income_area_cnt', 'avg_sale_house_price_5000',\n",
       "       'std_sale_house_price_5000', 'sale_house_cnt_5000',\n",
       "       'avg_sale_apartment_price_5000', 'std_sale_apartment_price_5000',\n",
       "       'sale_apartment_cnt_5000', 'avg_rent_house_price_5000',\n",
       "       'std_rent_house_price_5000', 'rent_house_cnt_5000',\n",
       "       'avg_rent_apartment_price_5000', 'std_rent_apartment_price_5000',\n",
       "       'rent_apartment_cnt_5000', 'avg_sale_house_price_10000',\n",
       "       'std_sale_house_price_10000', 'sale_house_cnt_10000',\n",
       "       'avg_sale_apartment_price_10000', 'std_sale_apartment_price_10000',\n",
       "       'sale_apartment_cnt_10000', 'avg_rent_house_price_10000',\n",
       "       'std_rent_house_price_10000', 'rent_house_cnt_10000',\n",
       "       'avg_rent_apartment_price_10000', 'std_rent_apartment_price_10000',\n",
       "       'rent_apartment_cnt_10000', 'previous', 'distance_residence_company'],\n",
       "      dtype='object')"
      ]
     },
     "execution_count": 6,
     "metadata": {},
     "output_type": "execute_result"
    }
   ],
   "source": [
    "main.columns"
   ]
  },
  {
   "cell_type": "code",
   "execution_count": 8,
   "id": "869f448c",
   "metadata": {},
   "outputs": [],
   "source": [
    "df = main.copy()"
   ]
  },
  {
   "cell_type": "markdown",
   "id": "a923042e",
   "metadata": {},
   "source": [
    "# Trim Irrelevant columns"
   ]
  },
  {
   "cell_type": "code",
   "execution_count": 9,
   "id": "e78242fa",
   "metadata": {},
   "outputs": [],
   "source": [
    "# remove state demographic (non-personal data)\n",
    "df = df[df.columns[:18]]\n",
    "\n",
    "#remove ID and application date\n",
    "df.drop([\"borr_id\",\"newapplicationdate\"],axis = \"columns\", inplace=True)"
   ]
  },
  {
   "cell_type": "code",
   "execution_count": 14,
   "id": "f936edc9",
   "metadata": {},
   "outputs": [
    {
     "data": {
      "text/html": [
       "<div>\n",
       "<style scoped>\n",
       "    .dataframe tbody tr th:only-of-type {\n",
       "        vertical-align: middle;\n",
       "    }\n",
       "\n",
       "    .dataframe tbody tr th {\n",
       "        vertical-align: top;\n",
       "    }\n",
       "\n",
       "    .dataframe thead th {\n",
       "        text-align: right;\n",
       "    }\n",
       "</style>\n",
       "<table border=\"1\" class=\"dataframe\">\n",
       "  <thead>\n",
       "    <tr style=\"text-align: right;\">\n",
       "      <th></th>\n",
       "      <th>gender</th>\n",
       "      <th>birthyear</th>\n",
       "      <th>maritalstatus</th>\n",
       "      <th>numofdependence</th>\n",
       "      <th>education</th>\n",
       "      <th>professionid</th>\n",
       "      <th>homestatus</th>\n",
       "      <th>staysinceyear</th>\n",
       "      <th>EmploymentSinceYear</th>\n",
       "      <th>MainBusinessSinceYear</th>\n",
       "      <th>jobtypeid</th>\n",
       "      <th>jobpos</th>\n",
       "      <th>monthlyfixedincome</th>\n",
       "      <th>monthlyvariableincome</th>\n",
       "      <th>spouseincome</th>\n",
       "      <th>MaxOverDueDays</th>\n",
       "    </tr>\n",
       "  </thead>\n",
       "  <tbody>\n",
       "    <tr>\n",
       "      <th>0</th>\n",
       "      <td>Male</td>\n",
       "      <td>1985</td>\n",
       "      <td>SINGLE</td>\n",
       "      <td>0</td>\n",
       "      <td>BACHELOR_DEGREE</td>\n",
       "      <td>Government employees</td>\n",
       "      <td>4</td>\n",
       "      <td>2010</td>\n",
       "      <td>2006.0</td>\n",
       "      <td>NaN</td>\n",
       "      <td>Others</td>\n",
       "      <td>Staff</td>\n",
       "      <td>4000000.0</td>\n",
       "      <td>0</td>\n",
       "      <td>0.0</td>\n",
       "      <td>0</td>\n",
       "    </tr>\n",
       "    <tr>\n",
       "      <th>1</th>\n",
       "      <td>Male</td>\n",
       "      <td>1969</td>\n",
       "      <td>MARRIED</td>\n",
       "      <td>2</td>\n",
       "      <td>ELEMENTARY_SCHOOL</td>\n",
       "      <td>Entrepreneur</td>\n",
       "      <td>1</td>\n",
       "      <td>1992</td>\n",
       "      <td>NaN</td>\n",
       "      <td>2005.0</td>\n",
       "      <td>Entrepreneur</td>\n",
       "      <td>NaN</td>\n",
       "      <td>3000000.0</td>\n",
       "      <td>0</td>\n",
       "      <td>0.0</td>\n",
       "      <td>7</td>\n",
       "    </tr>\n",
       "    <tr>\n",
       "      <th>2</th>\n",
       "      <td>Female</td>\n",
       "      <td>1976</td>\n",
       "      <td>MARRIED</td>\n",
       "      <td>2</td>\n",
       "      <td>SENIOR_HIGH_SCHOOL</td>\n",
       "      <td>Entrepreneur</td>\n",
       "      <td>1</td>\n",
       "      <td>2008</td>\n",
       "      <td>NaN</td>\n",
       "      <td>2010.0</td>\n",
       "      <td>Entrepreneur</td>\n",
       "      <td>NaN</td>\n",
       "      <td>3000000.0</td>\n",
       "      <td>0</td>\n",
       "      <td>0.0</td>\n",
       "      <td>17</td>\n",
       "    </tr>\n",
       "    <tr>\n",
       "      <th>3</th>\n",
       "      <td>Male</td>\n",
       "      <td>1985</td>\n",
       "      <td>MARRIED</td>\n",
       "      <td>1</td>\n",
       "      <td>ELEMENTARY_SCHOOL</td>\n",
       "      <td>Entrepreneur</td>\n",
       "      <td>1</td>\n",
       "      <td>2002</td>\n",
       "      <td>NaN</td>\n",
       "      <td>2005.0</td>\n",
       "      <td>Entrepreneur</td>\n",
       "      <td>NaN</td>\n",
       "      <td>5000000.0</td>\n",
       "      <td>0</td>\n",
       "      <td>0.0</td>\n",
       "      <td>10</td>\n",
       "    </tr>\n",
       "    <tr>\n",
       "      <th>4</th>\n",
       "      <td>Female</td>\n",
       "      <td>1979</td>\n",
       "      <td>MARRIED</td>\n",
       "      <td>1</td>\n",
       "      <td>ELEMENTARY_SCHOOL</td>\n",
       "      <td>Entrepreneur</td>\n",
       "      <td>1</td>\n",
       "      <td>2007</td>\n",
       "      <td>NaN</td>\n",
       "      <td>2007.0</td>\n",
       "      <td>Entrepreneur</td>\n",
       "      <td>NaN</td>\n",
       "      <td>3800000.0</td>\n",
       "      <td>0</td>\n",
       "      <td>0.0</td>\n",
       "      <td>10</td>\n",
       "    </tr>\n",
       "  </tbody>\n",
       "</table>\n",
       "</div>"
      ],
      "text/plain": [
       "   gender  birthyear maritalstatus  numofdependence           education  \\\n",
       "0    Male       1985        SINGLE                0     BACHELOR_DEGREE   \n",
       "1    Male       1969       MARRIED                2   ELEMENTARY_SCHOOL   \n",
       "2  Female       1976       MARRIED                2  SENIOR_HIGH_SCHOOL   \n",
       "3    Male       1985       MARRIED                1   ELEMENTARY_SCHOOL   \n",
       "4  Female       1979       MARRIED                1   ELEMENTARY_SCHOOL   \n",
       "\n",
       "           professionid  homestatus  staysinceyear  EmploymentSinceYear  \\\n",
       "0  Government employees           4           2010               2006.0   \n",
       "1          Entrepreneur           1           1992                  NaN   \n",
       "2          Entrepreneur           1           2008                  NaN   \n",
       "3          Entrepreneur           1           2002                  NaN   \n",
       "4          Entrepreneur           1           2007                  NaN   \n",
       "\n",
       "   MainBusinessSinceYear     jobtypeid jobpos  monthlyfixedincome  \\\n",
       "0                    NaN        Others  Staff           4000000.0   \n",
       "1                 2005.0  Entrepreneur    NaN           3000000.0   \n",
       "2                 2010.0  Entrepreneur    NaN           3000000.0   \n",
       "3                 2005.0  Entrepreneur    NaN           5000000.0   \n",
       "4                 2007.0  Entrepreneur    NaN           3800000.0   \n",
       "\n",
       "   monthlyvariableincome  spouseincome  MaxOverDueDays  \n",
       "0                      0           0.0               0  \n",
       "1                      0           0.0               7  \n",
       "2                      0           0.0              17  \n",
       "3                      0           0.0              10  \n",
       "4                      0           0.0              10  "
      ]
     },
     "execution_count": 14,
     "metadata": {},
     "output_type": "execute_result"
    }
   ],
   "source": [
    "df.head(5)"
   ]
  },
  {
   "cell_type": "markdown",
   "id": "286188eb",
   "metadata": {},
   "source": [
    "# data cleaning"
   ]
  },
  {
   "cell_type": "markdown",
   "id": "70f7543a",
   "metadata": {},
   "source": [
    "## missing data "
   ]
  },
  {
   "cell_type": "code",
   "execution_count": 15,
   "id": "f4d1a82e",
   "metadata": {},
   "outputs": [
    {
     "data": {
      "text/plain": [
       "gender                        0\n",
       "birthyear                     0\n",
       "maritalstatus                 8\n",
       "numofdependence               0\n",
       "education                     0\n",
       "professionid                  0\n",
       "homestatus                    0\n",
       "staysinceyear                 0\n",
       "EmploymentSinceYear       91140\n",
       "MainBusinessSinceYear    105317\n",
       "jobtypeid                   137\n",
       "jobpos                    85155\n",
       "monthlyfixedincome            0\n",
       "monthlyvariableincome         0\n",
       "spouseincome                  8\n",
       "MaxOverDueDays                0\n",
       "dtype: int64"
      ]
     },
     "execution_count": 15,
     "metadata": {},
     "output_type": "execute_result"
    }
   ],
   "source": [
    "df.isna().sum()"
   ]
  },
  {
   "cell_type": "markdown",
   "id": "6504a379",
   "metadata": {},
   "source": [
    "### Employment year missing data "
   ]
  },
  {
   "cell_type": "code",
   "execution_count": 16,
   "id": "90242066",
   "metadata": {},
   "outputs": [
    {
     "data": {
      "text/plain": [
       "196397"
      ]
     },
     "execution_count": 16,
     "metadata": {},
     "output_type": "execute_result"
    }
   ],
   "source": [
    "# Employment and Business ownership is mutually exclusive \n",
    "sum(df[\"EmploymentSinceYear\"].notna() == df[\"MainBusinessSinceYear\"].isna())"
   ]
  },
  {
   "cell_type": "code",
   "execution_count": 17,
   "id": "50938953",
   "metadata": {},
   "outputs": [
    {
     "name": "stderr",
     "output_type": "stream",
     "text": [
      "C:\\Users\\FAN_HUI\\anaconda3\\lib\\site-packages\\pandas\\core\\frame.py:4462: SettingWithCopyWarning: \n",
      "A value is trying to be set on a copy of a slice from a DataFrame\n",
      "\n",
      "See the caveats in the documentation: https://pandas.pydata.org/pandas-docs/stable/user_guide/indexing.html#returning-a-view-versus-a-copy\n",
      "  return super().fillna(\n"
     ]
    }
   ],
   "source": [
    "employment_frame = df[[\"EmploymentSinceYear\", \"MainBusinessSinceYear\"]]\n",
    "employment_frame.fillna(method=\"backfill\",axis=\"columns\",inplace=True)\n",
    "df[\"employment_year\"] = employment_frame[\"EmploymentSinceYear\"]\n",
    "df.drop([\"EmploymentSinceYear\", \"MainBusinessSinceYear\"],axis = \"columns\", inplace=True)"
   ]
  },
  {
   "cell_type": "markdown",
   "id": "1253b1cf",
   "metadata": {},
   "source": [
    "### employment type missing data"
   ]
  },
  {
   "cell_type": "markdown",
   "id": "a7c23645",
   "metadata": {},
   "source": [
    "We will focus on job position as it has 1) more distinct levels and is 2) ordinal"
   ]
  },
  {
   "cell_type": "code",
   "execution_count": 18,
   "id": "aaa6223d",
   "metadata": {},
   "outputs": [],
   "source": [
    "#isolate columns for job\n",
    "job_frame = df[[\"jobtypeid\", \"jobpos\"]]"
   ]
  },
  {
   "cell_type": "code",
   "execution_count": 19,
   "id": "b4f23108",
   "metadata": {},
   "outputs": [
    {
     "data": {
      "text/plain": [
       "Entrepreneur                 0.816826\n",
       "Others                       0.160971\n",
       "Security                     0.005609\n",
       "Doctor                       0.003238\n",
       "Military / Army-Police       0.002602\n",
       "Collector                    0.002082\n",
       "Midwife                      0.001735\n",
       "Education                    0.001677\n",
       "Government                   0.001503\n",
       "Theologian and Pastor        0.001388\n",
       "Marketing                    0.000983\n",
       "Farmer                       0.000347\n",
       "Engineering                  0.000231\n",
       "General Administration       0.000173\n",
       "Fisherman                    0.000116\n",
       "Retired                      0.000116\n",
       "Student / College Student    0.000116\n",
       "Notary Public                0.000116\n",
       "Artist & Entertainment       0.000058\n",
       "Journalist                   0.000058\n",
       "Housewife                    0.000058\n",
       "Name: jobtypeid, dtype: float64"
      ]
     },
     "execution_count": 19,
     "metadata": {},
     "output_type": "execute_result"
    }
   ],
   "source": [
    "#what exact comprises \"others\" in job pos. Mostly entrepreneurs @ 82%\n",
    "job_frame[job_frame[\"jobpos\"]==\"Others\"][\"jobtypeid\"].value_counts(normalize=True)"
   ]
  },
  {
   "cell_type": "code",
   "execution_count": 20,
   "id": "8edd26c0",
   "metadata": {},
   "outputs": [
    {
     "data": {
      "text/plain": [
       "Entrepreneur                 0.394510\n",
       "Others                       0.015225\n",
       "Education                    0.013210\n",
       "Doctor                       0.000565\n",
       "Housewife                    0.000435\n",
       "Theologian and Pastor        0.000410\n",
       "Military / Army-Police       0.000350\n",
       "Student / College Student    0.000235\n",
       "Security                     0.000135\n",
       "Journalist                   0.000025\n",
       "Government / Legislative     0.000015\n",
       "Collector                    0.000015\n",
       "Artist & Entertainment       0.000010\n",
       "Name: jobtypeid, dtype: float64"
      ]
     },
     "execution_count": 20,
     "metadata": {},
     "output_type": "execute_result"
    }
   ],
   "source": [
    "#find out the contribution of missing jobpos. bulk are entrepreneur, others and education (assuming self employed tutors)\n",
    "missing_job_frame= job_frame[job_frame[\"jobpos\"].isna()]\n",
    "missing_job_frame[\"jobtypeid\"].value_counts() / len(df)"
   ]
  },
  {
   "cell_type": "code",
   "execution_count": 21,
   "id": "df290531",
   "metadata": {},
   "outputs": [
    {
     "name": "stderr",
     "output_type": "stream",
     "text": [
      "<ipython-input-21-730eeb3c6619>:14: SettingWithCopyWarning: \n",
      "A value is trying to be set on a copy of a slice from a DataFrame.\n",
      "Try using .loc[row_indexer,col_indexer] = value instead\n",
      "\n",
      "See the caveats in the documentation: https://pandas.pydata.org/pandas-docs/stable/user_guide/indexing.html#returning-a-view-versus-a-copy\n",
      "  job_frame[\"jobpos\"] = job_frame[\"jobpos\"].apply(clean_pos)\n"
     ]
    },
    {
     "data": {
      "text/plain": [
       "self-employed                101886\n",
       "Staff                         93387\n",
       "Manager                        3375\n",
       "Director                        660\n",
       "Supervisor                      126\n",
       "Doctor                          113\n",
       "Housewife                        87\n",
       "Theologian and Pastor            82\n",
       "Military / Army-Police           70\n",
       "Student / College Student        47\n",
       "Security                         27\n",
       "Journalist                        5\n",
       "Government / Legislative          3\n",
       "Collector                         3\n",
       "Artist & Entertainment            2\n",
       "Name: jobpos, dtype: int64"
      ]
     },
     "execution_count": 21,
     "metadata": {},
     "output_type": "execute_result"
    }
   ],
   "source": [
    "job_frame.fillna(method=\"ffill\", axis = \"columns\", inplace = True)\n",
    "\n",
    "# convert entrepreneur, others and education to self-employed\n",
    "def clean_pos(value):\n",
    "    if value == \"Entrepreneur\":\n",
    "        return \"self-employed\"\n",
    "    elif value == \"Others\":\n",
    "        return \"self-employed\"\n",
    "    elif value == \"Education\":\n",
    "        return \"self-employed\"\n",
    "    else:\n",
    "        return value\n",
    "    \n",
    "job_frame[\"jobpos\"] = job_frame[\"jobpos\"].apply(clean_pos)\n",
    "job_frame[\"jobpos\"].value_counts()"
   ]
  },
  {
   "cell_type": "code",
   "execution_count": 22,
   "id": "94d07825",
   "metadata": {},
   "outputs": [],
   "source": [
    "# insert filled position into main df\n",
    "df[\"jobpos\"] = job_frame[\"jobpos\"]"
   ]
  },
  {
   "cell_type": "code",
   "execution_count": 23,
   "id": "10ea6957",
   "metadata": {},
   "outputs": [
    {
     "name": "stderr",
     "output_type": "stream",
     "text": [
      "C:\\Users\\FAN_HUI\\anaconda3\\lib\\site-packages\\pandas\\core\\frame.py:4308: SettingWithCopyWarning: \n",
      "A value is trying to be set on a copy of a slice from a DataFrame\n",
      "\n",
      "See the caveats in the documentation: https://pandas.pydata.org/pandas-docs/stable/user_guide/indexing.html#returning-a-view-versus-a-copy\n",
      "  return super().drop(\n"
     ]
    }
   ],
   "source": [
    "#filter out job without proper position and drop job type column\n",
    "relevant_pos = [\"self-employed\",\"Staff\", \"Manager\", \"Director\", \"Supervisor\"]\n",
    "df = df[df[\"jobpos\"].isin(relevant_pos)]\n",
    "df.drop([\"jobtypeid\",\"professionid\"],axis = \"columns\", inplace=True)"
   ]
  },
  {
   "cell_type": "markdown",
   "id": "4d3c3656",
   "metadata": {},
   "source": [
    "### remaining missing data"
   ]
  },
  {
   "cell_type": "code",
   "execution_count": 24,
   "id": "3f252237",
   "metadata": {},
   "outputs": [
    {
     "name": "stderr",
     "output_type": "stream",
     "text": [
      "C:\\Users\\FAN_HUI\\anaconda3\\lib\\site-packages\\pandas\\core\\series.py:4463: SettingWithCopyWarning: \n",
      "A value is trying to be set on a copy of a slice from a DataFrame\n",
      "\n",
      "See the caveats in the documentation: https://pandas.pydata.org/pandas-docs/stable/user_guide/indexing.html#returning-a-view-versus-a-copy\n",
      "  return super().fillna(\n"
     ]
    },
    {
     "data": {
      "text/plain": [
       "gender                    0\n",
       "birthyear                 0\n",
       "maritalstatus             8\n",
       "numofdependence           0\n",
       "education                 0\n",
       "homestatus                0\n",
       "staysinceyear             0\n",
       "jobpos                    0\n",
       "monthlyfixedincome        0\n",
       "monthlyvariableincome     0\n",
       "spouseincome              0\n",
       "MaxOverDueDays            0\n",
       "employment_year          28\n",
       "dtype: int64"
      ]
     },
     "execution_count": 24,
     "metadata": {},
     "output_type": "execute_result"
    }
   ],
   "source": [
    "#assume no spouse income if there is none\n",
    "df[\"spouseincome\"].fillna(0,inplace=True)\n",
    "df.isna().sum()"
   ]
  },
  {
   "cell_type": "code",
   "execution_count": 25,
   "id": "6cea3baa",
   "metadata": {},
   "outputs": [],
   "source": [
    "# drop unemployed people and with no martial status (limitation 1. can only take in employed individuals)\n",
    "df = df[df[\"employment_year\"].notna()]\n",
    "df = df[df[\"maritalstatus\"].notna()]"
   ]
  },
  {
   "cell_type": "code",
   "execution_count": 26,
   "id": "efb43d46",
   "metadata": {},
   "outputs": [],
   "source": [
    "# no idea what is homestatus and does not look like numbers of room in home\n",
    "df.drop(\"homestatus\",axis = \"columns\", inplace=True)"
   ]
  },
  {
   "cell_type": "code",
   "execution_count": 27,
   "id": "c2ed5d55",
   "metadata": {},
   "outputs": [],
   "source": [
    "#drop null for gender\n",
    "df = df[df[\"gender\"] != \"Null\"]"
   ]
  },
  {
   "cell_type": "markdown",
   "id": "cf5dc7b3",
   "metadata": {},
   "source": [
    "# Feature engineering "
   ]
  },
  {
   "cell_type": "code",
   "execution_count": 28,
   "id": "3051e112",
   "metadata": {},
   "outputs": [],
   "source": [
    "# age\n",
    "df[\"age\"] = 2022 - df[\"birthyear\"]\n",
    "df.drop(\"birthyear\",axis = \"columns\", inplace=True)"
   ]
  },
  {
   "cell_type": "code",
   "execution_count": 29,
   "id": "362f75f6",
   "metadata": {},
   "outputs": [],
   "source": [
    "#household income\n",
    "df[\"household_income\"] = df[\"monthlyfixedincome\"] + df[\"monthlyvariableincome\"] + df[\"spouseincome\"]\n",
    "df.drop([\"monthlyfixedincome\",\"monthlyvariableincome\",\"spouseincome\"],axis = \"columns\", inplace=True)"
   ]
  },
  {
   "cell_type": "code",
   "execution_count": 30,
   "id": "83fe4e47",
   "metadata": {},
   "outputs": [],
   "source": [
    "# work experience\n",
    "df[\"work_experience\"] = 2022 - df[\"employment_year\"]\n",
    "df.drop(\"employment_year\",axis = \"columns\", inplace=True)"
   ]
  },
  {
   "cell_type": "code",
   "execution_count": 31,
   "id": "61abfe05",
   "metadata": {},
   "outputs": [],
   "source": [
    "# year of home ownership\n",
    "df[\"years_home_owned\"] = 2022 - df[\"staysinceyear\"]\n",
    "df.drop(\"staysinceyear\",axis = \"columns\", inplace=True)"
   ]
  },
  {
   "cell_type": "code",
   "execution_count": 32,
   "id": "5628d1c7",
   "metadata": {},
   "outputs": [],
   "source": [
    "#convert education to ordinal level\n",
    "\n",
    "def clean_edu(value):\n",
    "    if value == \"OTHERS\" or value == \"NOT_ATTENDING_SCHOOL\" or value == \"ELEMENTARY_SCHOOL\":\n",
    "        return 1 \n",
    "    elif value == \"JUNIOR_HIGH_SCHOOL\" or value == \"SENIOR_HIGH_SCHOOL\":\n",
    "        return 2\n",
    "    elif value == \"BACHELOR_DEGREE\" or value == \"TECHNICAL_COLLEGE\":\n",
    "        return 3\n",
    "    else:\n",
    "        return 4\n",
    "    \n",
    "df['education'] = df['education'].apply(clean_edu)"
   ]
  },
  {
   "cell_type": "code",
   "execution_count": 33,
   "id": "838cd769",
   "metadata": {},
   "outputs": [],
   "source": [
    "#default or not\n",
    "def defaulted(value):\n",
    "    if value > 90:\n",
    "        return 1 \n",
    "    else:\n",
    "        return 0\n",
    "    \n",
    "df[\"status\"] = df[\"MaxOverDueDays\"].apply(defaulted)\n",
    "df.drop(\"MaxOverDueDays\",axis = \"columns\", inplace=True)"
   ]
  },
  {
   "cell_type": "code",
   "execution_count": 34,
   "id": "5f206b48",
   "metadata": {},
   "outputs": [],
   "source": [
    "#study the portion of default rate among job position\n",
    "job_frame = df[['jobpos',\"status\"]]\n",
    "\n",
    "# def default_counting(value):\n",
    "#     if value == \"servicing\":\n",
    "#         return 0\n",
    "#     else: \n",
    "#         return 1\n",
    "    \n",
    "# job_frame[\"status\"] = job_frame[\"status\"].apply(default_counting)"
   ]
  },
  {
   "cell_type": "code",
   "execution_count": 36,
   "id": "b4947d32",
   "metadata": {},
   "outputs": [
    {
     "data": {
      "text/html": [
       "<div>\n",
       "<style scoped>\n",
       "    .dataframe tbody tr th:only-of-type {\n",
       "        vertical-align: middle;\n",
       "    }\n",
       "\n",
       "    .dataframe tbody tr th {\n",
       "        vertical-align: top;\n",
       "    }\n",
       "\n",
       "    .dataframe thead th {\n",
       "        text-align: right;\n",
       "    }\n",
       "</style>\n",
       "<table border=\"1\" class=\"dataframe\">\n",
       "  <thead>\n",
       "    <tr style=\"text-align: right;\">\n",
       "      <th></th>\n",
       "      <th>jobpos</th>\n",
       "      <th>status</th>\n",
       "    </tr>\n",
       "  </thead>\n",
       "  <tbody>\n",
       "    <tr>\n",
       "      <th>0</th>\n",
       "      <td>Staff</td>\n",
       "      <td>0</td>\n",
       "    </tr>\n",
       "    <tr>\n",
       "      <th>1</th>\n",
       "      <td>self-employed</td>\n",
       "      <td>0</td>\n",
       "    </tr>\n",
       "    <tr>\n",
       "      <th>2</th>\n",
       "      <td>self-employed</td>\n",
       "      <td>0</td>\n",
       "    </tr>\n",
       "    <tr>\n",
       "      <th>3</th>\n",
       "      <td>self-employed</td>\n",
       "      <td>0</td>\n",
       "    </tr>\n",
       "    <tr>\n",
       "      <th>4</th>\n",
       "      <td>self-employed</td>\n",
       "      <td>0</td>\n",
       "    </tr>\n",
       "    <tr>\n",
       "      <th>...</th>\n",
       "      <td>...</td>\n",
       "      <td>...</td>\n",
       "    </tr>\n",
       "    <tr>\n",
       "      <th>199995</th>\n",
       "      <td>Staff</td>\n",
       "      <td>0</td>\n",
       "    </tr>\n",
       "    <tr>\n",
       "      <th>199996</th>\n",
       "      <td>Staff</td>\n",
       "      <td>0</td>\n",
       "    </tr>\n",
       "    <tr>\n",
       "      <th>199997</th>\n",
       "      <td>self-employed</td>\n",
       "      <td>1</td>\n",
       "    </tr>\n",
       "    <tr>\n",
       "      <th>199998</th>\n",
       "      <td>Staff</td>\n",
       "      <td>0</td>\n",
       "    </tr>\n",
       "    <tr>\n",
       "      <th>199999</th>\n",
       "      <td>Staff</td>\n",
       "      <td>0</td>\n",
       "    </tr>\n",
       "  </tbody>\n",
       "</table>\n",
       "<p>199396 rows × 2 columns</p>\n",
       "</div>"
      ],
      "text/plain": [
       "               jobpos  status\n",
       "0               Staff       0\n",
       "1       self-employed       0\n",
       "2       self-employed       0\n",
       "3       self-employed       0\n",
       "4       self-employed       0\n",
       "...               ...     ...\n",
       "199995          Staff       0\n",
       "199996          Staff       0\n",
       "199997  self-employed       1\n",
       "199998          Staff       0\n",
       "199999          Staff       0\n",
       "\n",
       "[199396 rows x 2 columns]"
      ]
     },
     "execution_count": 36,
     "metadata": {},
     "output_type": "execute_result"
    }
   ],
   "source": [
    "job_frame"
   ]
  },
  {
   "cell_type": "code",
   "execution_count": 37,
   "id": "53da54d0",
   "metadata": {},
   "outputs": [
    {
     "data": {
      "text/html": [
       "<div>\n",
       "<style scoped>\n",
       "    .dataframe tbody tr th:only-of-type {\n",
       "        vertical-align: middle;\n",
       "    }\n",
       "\n",
       "    .dataframe tbody tr th {\n",
       "        vertical-align: top;\n",
       "    }\n",
       "\n",
       "    .dataframe thead tr th {\n",
       "        text-align: left;\n",
       "    }\n",
       "\n",
       "    .dataframe thead tr:last-of-type th {\n",
       "        text-align: right;\n",
       "    }\n",
       "</style>\n",
       "<table border=\"1\" class=\"dataframe\">\n",
       "  <thead>\n",
       "    <tr>\n",
       "      <th></th>\n",
       "      <th colspan=\"2\" halign=\"left\">status</th>\n",
       "      <th>portion</th>\n",
       "    </tr>\n",
       "    <tr>\n",
       "      <th></th>\n",
       "      <th>count</th>\n",
       "      <th>sum</th>\n",
       "      <th></th>\n",
       "    </tr>\n",
       "    <tr>\n",
       "      <th>jobpos</th>\n",
       "      <th></th>\n",
       "      <th></th>\n",
       "      <th></th>\n",
       "    </tr>\n",
       "  </thead>\n",
       "  <tbody>\n",
       "    <tr>\n",
       "      <th>Director</th>\n",
       "      <td>660</td>\n",
       "      <td>105</td>\n",
       "      <td>0.159091</td>\n",
       "    </tr>\n",
       "    <tr>\n",
       "      <th>Manager</th>\n",
       "      <td>3374</td>\n",
       "      <td>408</td>\n",
       "      <td>0.120925</td>\n",
       "    </tr>\n",
       "    <tr>\n",
       "      <th>Staff</th>\n",
       "      <td>93383</td>\n",
       "      <td>12298</td>\n",
       "      <td>0.131694</td>\n",
       "    </tr>\n",
       "    <tr>\n",
       "      <th>Supervisor</th>\n",
       "      <td>126</td>\n",
       "      <td>2</td>\n",
       "      <td>0.015873</td>\n",
       "    </tr>\n",
       "    <tr>\n",
       "      <th>self-employed</th>\n",
       "      <td>101853</td>\n",
       "      <td>18224</td>\n",
       "      <td>0.178925</td>\n",
       "    </tr>\n",
       "  </tbody>\n",
       "</table>\n",
       "</div>"
      ],
      "text/plain": [
       "               status          portion\n",
       "                count    sum          \n",
       "jobpos                                \n",
       "Director          660    105  0.159091\n",
       "Manager          3374    408  0.120925\n",
       "Staff           93383  12298  0.131694\n",
       "Supervisor        126      2  0.015873\n",
       "self-employed  101853  18224  0.178925"
      ]
     },
     "execution_count": 37,
     "metadata": {},
     "output_type": "execute_result"
    }
   ],
   "source": [
    "job_frame = job_frame.groupby(\"jobpos\").agg({\"status\": [\"count\", \"sum\"]})\n",
    "job_frame[\"portion\"] = job_frame[\"status\"][\"sum\"] / job_frame[\"status\"][\"count\"]\n",
    "job_frame\n",
    "\n",
    "#the distribution seems to be equal with the exception of supervisors. Therefore, this variable must be treated \n",
    "#as norminal variable (one-hot-encoding needed)"
   ]
  },
  {
   "cell_type": "markdown",
   "id": "8a44f54f",
   "metadata": {},
   "source": [
    "# Feature Selection"
   ]
  },
  {
   "cell_type": "markdown",
   "id": "dc8eb2cc",
   "metadata": {},
   "source": [
    "## Numerical Variables"
   ]
  },
  {
   "cell_type": "code",
   "execution_count": 39,
   "id": "a54aff89",
   "metadata": {},
   "outputs": [],
   "source": [
    "#numericals variables\n",
    "df_numerics = df[['numofdependence', 'education', 'jobpos',\n",
    "       'age', 'household_income', 'work_experience', 'years_home_owned',\n",
    "       ]]"
   ]
  },
  {
   "cell_type": "code",
   "execution_count": 1,
   "id": "a28992eb",
   "metadata": {},
   "outputs": [
    {
     "ename": "NameError",
     "evalue": "name 'df_numerics' is not defined",
     "output_type": "error",
     "traceback": [
      "\u001b[1;31m---------------------------------------------------------------------------\u001b[0m",
      "\u001b[1;31mNameError\u001b[0m                                 Traceback (most recent call last)",
      "\u001b[1;32m<ipython-input-1-96722bb3e62f>\u001b[0m in \u001b[0;36m<module>\u001b[1;34m\u001b[0m\n\u001b[0;32m      1\u001b[0m \u001b[1;31m#strongest coorelations at age and dependence of only 39%. All numerical features shall be retained\u001b[0m\u001b[1;33m\u001b[0m\u001b[1;33m\u001b[0m\u001b[1;33m\u001b[0m\u001b[0m\n\u001b[1;32m----> 2\u001b[1;33m \u001b[0mcorr\u001b[0m \u001b[1;33m=\u001b[0m \u001b[0mdf_numerics\u001b[0m\u001b[1;33m.\u001b[0m\u001b[0mcorr\u001b[0m\u001b[1;33m(\u001b[0m\u001b[1;33m)\u001b[0m\u001b[1;33m\u001b[0m\u001b[1;33m\u001b[0m\u001b[0m\n\u001b[0m\u001b[0;32m      3\u001b[0m \u001b[0mcorr\u001b[0m\u001b[1;33m.\u001b[0m\u001b[0mstyle\u001b[0m\u001b[1;33m.\u001b[0m\u001b[0mbackground_gradient\u001b[0m\u001b[1;33m(\u001b[0m\u001b[0mcmap\u001b[0m\u001b[1;33m=\u001b[0m\u001b[1;34m'coolwarm'\u001b[0m\u001b[1;33m)\u001b[0m\u001b[1;33m\u001b[0m\u001b[1;33m\u001b[0m\u001b[0m\n",
      "\u001b[1;31mNameError\u001b[0m: name 'df_numerics' is not defined"
     ]
    }
   ],
   "source": [
    "#strongest coorelations at age and dependence of only 39%. All numerical features shall be retained\n",
    "corr = df_numerics.corr()\n",
    "corr.style.background_gradient(cmap='coolwarm')"
   ]
  },
  {
   "cell_type": "markdown",
   "id": "3976dd7a",
   "metadata": {},
   "source": [
    "## categorical variables"
   ]
  },
  {
   "cell_type": "markdown",
   "id": "34e00638",
   "metadata": {},
   "source": [
    "no single level dominated all default cases. Very little chance of model using the level as key predictor"
   ]
  },
  {
   "cell_type": "code",
   "execution_count": 378,
   "id": "500c2b24",
   "metadata": {},
   "outputs": [
    {
     "data": {
      "image/png": "[encoded data removed]",
      "text/plain": [
       "<Figure size 432x288 with 1 Axes>"
      ]
     },
     "metadata": {
      "needs_background": "light"
     },
     "output_type": "display_data"
    }
   ],
   "source": [
    "ax = sns.countplot(x=\"gender\", hue=\"status\", data=df)"
   ]
  },
  {
   "cell_type": "code",
   "execution_count": 379,
   "id": "a5b0e81a",
   "metadata": {},
   "outputs": [
    {
     "data": {
      "image/png": "[encoded data removed]",
      "text/plain": [
       "<Figure size 432x288 with 1 Axes>"
      ]
     },
     "metadata": {
      "needs_background": "light"
     },
     "output_type": "display_data"
    }
   ],
   "source": [
    "ax = sns.countplot(x=\"maritalstatus\", hue=\"status\", data=df)"
   ]
  },
  {
   "cell_type": "code",
   "execution_count": 380,
   "id": "2a2516cd",
   "metadata": {},
   "outputs": [],
   "source": [
    "# df.to_csv(\"cleaned_borrower_profile.csv\", index=False)"
   ]
  },
  {
   "cell_type": "code",
   "execution_count": 41,
   "id": "b2def7f3",
   "metadata": {},
   "outputs": [
    {
     "data": {
      "image/png": "[encoded data removed]",
      "text/plain": [
       "<Figure size 432x288 with 1 Axes>"
      ]
     },
     "metadata": {
      "needs_background": "light"
     },
     "output_type": "display_data"
    }
   ],
   "source": [
    "ax = sns.countplot(x=\"jobpos\", hue=\"status\", data=df)"
   ]
  }
 ],
 "metadata": {
  "kernelspec": {
   "display_name": "Python 3",
   "language": "python",
   "name": "python3"
  },
  "language_info": {
   "codemirror_mode": {
    "name": "ipython",
    "version": 3
   },
   "file_extension": ".py",
   "mimetype": "text/x-python",
   "name": "python",
   "nbconvert_exporter": "python",
   "pygments_lexer": "ipython3",
   "version": "3.8.8"
  }
 },
 "nbformat": 4,
 "nbformat_minor": 5
}
